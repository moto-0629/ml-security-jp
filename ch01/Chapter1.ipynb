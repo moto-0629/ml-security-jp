{
  "nbformat": 4,
  "nbformat_minor": 0,
  "metadata": {
    "colab": {
      "name": "Chapter1.ipynb",
      "provenance": [],
      "gpuType": "T4"
    },
    "kernelspec": {
      "name": "python3",
      "display_name": "Python 3"
    },
    "language_info": {
      "name": "python"
    },
    "accelerator": "GPU"
  },
  "cells": [
    {
      "cell_type": "markdown",
      "metadata": {
        "id": "icMuF6uzg5qR"
      },
      "source": [
        "## 1章 情報セキュリティエンジニアのための機械学習入門"
      ]
    },
    {
      "cell_type": "code",
      "metadata": {
        "id": "8cX0lhShg2D3",
        "colab": {
          "base_uri": "https://localhost:8080/"
        },
        "outputId": "f833d1a5-cc82-4fd2-d0da-d40b9c06b350"
      },
      "source": [
        "print(\"Hello world!\")"
      ],
      "execution_count": 1,
      "outputs": [
        {
          "output_type": "stream",
          "name": "stdout",
          "text": [
            "Hello world!\n"
          ]
        }
      ]
    },
    {
      "cell_type": "markdown",
      "source": [
        "2025年度で、北海道情報大学jゼミノート、オライリー公開されていたノートに追記していきます。\n",
        "利用の際には、ランチタイムをT4 GPUにして作業しましょう。\n"
      ],
      "metadata": {
        "id": "GJz6uA0UUFoq"
      }
    },
    {
      "cell_type": "markdown",
      "source": [
        "#機械学習とは？\n",
        "\n",
        "* データセットの作成\n",
        "  ・ データの取得と整理、ラベル付け\n",
        "* データの読み込み、前処理\n",
        "  ・前処理・欠損値、ノイズ除去\n",
        "* データの探索、特徴量の設計\n",
        "  ・見たい・知りたい・推定したい量を「特徴づける」量を探す\n",
        "* モデルの訓練と評価\n",
        "  ・データセットを用いた訓練、アンサンブル思考など、うまくいかない場合はひとつ前に戻って再設計\n",
        "\n",
        "\n",
        "\n",
        "\n"
      ],
      "metadata": {
        "id": "-eBsvhPtVVdM"
      }
    },
    {
      "cell_type": "markdown",
      "source": [
        "# 今後の予定\n",
        "\n",
        "数学的なお話は、あんまりしないけれど、必要に応じて、イメージはたくさん話すことになります。図はたくさん作ります。\n",
        "公開されているライブラリのドキュメントをちゃんと読み、使えるようになる。\n",
        "\n"
      ],
      "metadata": {
        "id": "la5ic_fIaMkG"
      }
    }
  ]
}